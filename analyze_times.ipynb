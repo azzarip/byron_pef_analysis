{
 "cells": [
  {
   "attachments": {},
   "cell_type": "markdown",
   "metadata": {},
   "source": [
    "# How to run\n",
    "\n",
    "1. Create a folder next to the current notebook named `data`\n",
    "2. Put all the files of the same simulation using the same prefix, for example `5mm` followed by the specific flow, as `.txt` files\n",
    "\n",
    "Example: \n",
    "`5mm_100.txt`, `5mm_150.txt`, `5mm_200.txt`, ..."
   ]
  },
  {
   "attachments": {},
   "cell_type": "markdown",
   "metadata": {},
   "source": [
    "# Start up\n",
    "Run the following cell to load the necessary functions\n",
    "\n",
    "`extractData` will load all the files with the same prefix, e.g. `5mm` and create a table with the \n",
    "- `flow` extracted from the filename\n",
    "- `mean` \n",
    "- `min` minimum value of the time series\n",
    "- `std` standard deviation\n",
    "- `skewness` skewness of the time series\n",
    "\n",
    "you can execute it like this\n",
    "> table = extractData('5mm')\n",
    "\n",
    "You can eventually save it with \n",
    "> table.to_csv('filename.csv')\n",
    "\n",
    "\n",
    "`plotCumulative` and `plotProbability` will automatically create the plot files for a specific file e.g. \n",
    "\n",
    "> plotProbability('5mm_100.txt')\n",
    "\n",
    "will create the plot for the `5mm_100.txt` file\n"
   ]
  },
  {
   "cell_type": "code",
   "execution_count": 48,
   "metadata": {},
   "outputs": [],
   "source": [
    "import seaborn \n",
    "import matplotlib.pyplot as plt\n",
    "import pandas as pd\n",
    "import os\n",
    "\n",
    "def extractTimes(filename):\n",
    "    distance = 4.68/2\n",
    "    data = pd.read_csv('data/'+filename, header=None).drop(columns=[0]).T\n",
    "    times=data.iloc[::2,0]\n",
    "    positions = data.iloc[1::2].set_index(times)\n",
    "    low = abs(positions+distance).idxmin()\n",
    "    high = abs(positions-distance).idxmin()\n",
    "    time = high-low\n",
    "    return time\n",
    "\n",
    "def extractData(filepre):\n",
    "    from scipy.stats import skew\n",
    "    df = pd.DataFrame()\n",
    "\n",
    "    for file in os.listdir(\"data\"):\n",
    "        if file.startswith(filepre):\n",
    "            print(file)\n",
    "            flow = file.replace(filepre,'').replace('.txt','').replace('.csv', '').lstrip('_')            \n",
    "            times = extractTimes(file)\n",
    "            min = times.mode()[0]\n",
    "            cleanTimes = times.where(times > min)\n",
    "            mean = cleanTimes.mean()\n",
    "            std = cleanTimes.std()\n",
    "            skw = skew(cleanTimes.dropna())\n",
    "            df = pd.concat([df, pd.DataFrame([[flow, mean, min, std, skw ]])])\n",
    "                \n",
    "    df = df.rename(columns={0:'flow', 1:'mean', 2:'minimum', 3:'stdev', 4:'skewness' }).set_index('flow')\n",
    "    df.index = pd.to_numeric(df.index, errors='coerce')\n",
    "    return df.sort_index()\n",
    "\n",
    "\n",
    "def plotProbability(filename):\n",
    "    times = extractTimes(filename)\n",
    "    min = times.mode()[0]\n",
    "    cleanTimes = times.where(times > min).dropna()\n",
    "    seaborn.histplot(cleanTimes, stat='probability')\n",
    "    plt.xlabel('Time (s)')\n",
    "    plt.ylabel('Probability')\n",
    "    \n",
    "def plotCumulative(filename):\n",
    "    times = extractTimes(filename)\n",
    "    min = times.mode()[0]\n",
    "    cleanTimes = times.where(times > min).dropna()\n",
    "\n",
    "    seaborn.histplot(cleanTimes, stat='percent', cumulative=True)\n",
    "    plt.xlabel('Time (s)')\n",
    "    plt.ylabel('Cumulative %')"
   ]
  }
 ],
 "metadata": {
  "kernelspec": {
   "display_name": "data_analysis",
   "language": "python",
   "name": "python3"
  },
  "language_info": {
   "codemirror_mode": {
    "name": "ipython",
    "version": 3
   },
   "file_extension": ".py",
   "mimetype": "text/x-python",
   "name": "python",
   "nbconvert_exporter": "python",
   "pygments_lexer": "ipython3",
   "version": "3.10.9"
  },
  "orig_nbformat": 4,
  "vscode": {
   "interpreter": {
    "hash": "ddb56502a85e2612012d9ad0764e22b0c287e70e9aee4d5cc6cb7e2a105ed617"
   }
  }
 },
 "nbformat": 4,
 "nbformat_minor": 2
}
