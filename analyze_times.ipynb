{
 "cells": [
  {
   "attachments": {},
   "cell_type": "markdown",
   "metadata": {},
   "source": [
    "# Start up\n",
    "Run the following cell to load the necessary functions"
   ]
  },
  {
   "cell_type": "code",
   "execution_count": 26,
   "metadata": {},
   "outputs": [],
   "source": [
    "\n",
    "import pandas as pd\n",
    "import numpy as np\n",
    "\n",
    "def extractTimes(filename):\n",
    "    distance = 4.68/2\n",
    "    data = pd.read_csv('data/'+filename, header=None).drop(columns=[0]).T\n",
    "    times=data.iloc[::2,0]\n",
    "    positions = data.iloc[1::2].set_index(times)\n",
    "    low = abs(positions+distance).idxmin()\n",
    "    high = abs(positions-distance).idxmin()\n",
    "    time = high-low\n",
    "    return time\n",
    "\n",
    "def extractData(filepre):\n",
    "    import pandas as pd\n",
    "    import os\n",
    "    from scipy.stats import skew\n",
    "    df = pd.DataFrame()\n",
    "\n",
    "    for file in os.listdir(\"data\"):\n",
    "        if file.startswith(filepre):\n",
    "            print(file)\n",
    "            flow = file.replace(filepre,'').replace('.txt','').lstrip('_')            \n",
    "            times = extractTimes(file)\n",
    "            min = times.mode()[0]\n",
    "            cleanTimes = times.where(times > min)\n",
    "            mean = cleanTimes.mean()\n",
    "            std = cleanTimes.std()\n",
    "            skw = skew(cleanTimes.dropna())\n",
    "            print(skw)\n",
    "            df = pd.concat([df, pd.DataFrame([[flow, mean, min, std, skw ]])])\n",
    "                \n",
    "    df = df.rename(columns={0:'flow', 1:'mean', 2:'minimum', 3:'stdev', 4:'skewness' }).set_index('flow')\n",
    "    df.index = pd.to_numeric(df.index, errors='coerce')\n",
    "    return df.sort_index()"
   ]
  },
  {
   "cell_type": "code",
   "execution_count": null,
   "metadata": {},
   "outputs": [],
   "source": [
    "file = '5mm_high_125.txt'\n",
    "file.replace(filepre,'').replace('.txt','').lstrip('_')"
   ]
  },
  {
   "cell_type": "code",
   "execution_count": 11,
   "metadata": {},
   "outputs": [],
   "source": [
    "times = extractTimes('5mm_high_75.txt')\n",
    "from scipy.stats import skew"
   ]
  },
  {
   "cell_type": "code",
   "execution_count": 12,
   "metadata": {},
   "outputs": [],
   "source": [
    "from scipy.stats import skew"
   ]
  },
  {
   "cell_type": "code",
   "execution_count": 25,
   "metadata": {},
   "outputs": [
    {
     "data": {
      "text/plain": [
       "2.4939928792223873"
      ]
     },
     "execution_count": 25,
     "metadata": {},
     "output_type": "execute_result"
    }
   ],
   "source": [
    "skew(clean)"
   ]
  },
  {
   "cell_type": "code",
   "execution_count": 10,
   "metadata": {},
   "outputs": [
    {
     "data": {
      "text/plain": [
       "<Axes: ylabel='Count'>"
      ]
     },
     "execution_count": 10,
     "metadata": {},
     "output_type": "execute_result"
    },
    {
     "data": {
      "image/png": "[encoded data removed]",
      "text/plain": [
       "<Figure size 640x480 with 1 Axes>"
      ]
     },
     "metadata": {},
     "output_type": "display_data"
    }
   ],
   "source": [
    "import seaborn as sns\n",
    "sns.histplot(clean)"
   ]
  },
  {
   "cell_type": "code",
   "execution_count": 9,
   "metadata": {},
   "outputs": [],
   "source": [
    "\n",
    "clean = times.where(times > times.mode()[0]).dropna()"
   ]
  }
 ],
 "metadata": {
  "kernelspec": {
   "display_name": "data_analysis",
   "language": "python",
   "name": "python3"
  },
  "language_info": {
   "codemirror_mode": {
    "name": "ipython",
    "version": 3
   },
   "file_extension": ".py",
   "mimetype": "text/x-python",
   "name": "python",
   "nbconvert_exporter": "python",
   "pygments_lexer": "ipython3",
   "version": "3.10.9"
  },
  "orig_nbformat": 4,
  "vscode": {
   "interpreter": {
    "hash": "ddb56502a85e2612012d9ad0764e22b0c287e70e9aee4d5cc6cb7e2a105ed617"
   }
  }
 },
 "nbformat": 4,
 "nbformat_minor": 2
}
