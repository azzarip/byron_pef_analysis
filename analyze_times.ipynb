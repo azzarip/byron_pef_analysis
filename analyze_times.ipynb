{
 "cells": [
  {
   "attachments": {},
   "cell_type": "markdown",
   "metadata": {},
   "source": [
    "# Start up\n",
    "Run the following cell to load the necessary functions"
   ]
  },
  {
   "cell_type": "code",
   "execution_count": 23,
   "metadata": {},
   "outputs": [],
   "source": [
    "import pandas as pd\n",
    "import numpy as np\n",
    "\n",
    "precision = 0.01\n",
    "\n",
    "def extractTimes(filename):\n",
    "    distance = 4.68/2\n",
    "    data = pd.read_csv('data/'+filename, header=None).drop(columns=[0]).T\n",
    "    times=data.iloc[::2,0]\n",
    "    positions = data.iloc[1::2].set_index(times)\n",
    "    low = abs(positions+distance).idxmin()\n",
    "    high = abs(positions-distance).idxmin()\n",
    "    time = high-low\n",
    "    return time\n",
    "\n",
    "def getAverage(pre):\n",
    "    import pandas as pd\n",
    "    import os\n",
    "    df = pd.DataFrame()\n",
    "\n",
    "    for file in os.listdir(\"data\"):\n",
    "        if file.startswith(pre):\n",
    "            print(file)\n",
    "            flow = file.replace(pre,'').replace('.txt','').lstrip('_')            \n",
    "            times = extractTimes(file)\n",
    "            timeBins = pd.cut(times, bins=np.arange(0, times.max(), precision), labels=np.arange(0, times.max()-precision,precision))\n",
    "            min = timeBins.mode()[0]\n",
    "            mean = times.mean()\n",
    "            std = times.std()\n",
    "            df = pd.concat([df, pd.DataFrame([[flow, mean, std, ]])])\n",
    "                \n",
    "    df = df.rename(columns={0:'flow', 1:f'{pre}'}).set_index('flow')\n",
    "    df.index = pd.to_numeric(df.index, errors='coerce')\n",
    "    return df.sort_index()"
   ]
  },
  {
   "cell_type": "code",
   "execution_count": 11,
   "metadata": {},
   "outputs": [
    {
     "name": "stdout",
     "output_type": "stream",
     "text": [
      "5mm_high_100.txt\n",
      "5mm_high_125.txt\n",
      "5mm_high_150.txt\n",
      "5mm_high_175.txt\n",
      "5mm_high_200.txt\n",
      "5mm_high_50.txt\n",
      "5mm_high_75.txt\n"
     ]
    },
    {
     "data": {
      "text/html": [
       "<div>\n",
       "<style scoped>\n",
       "    .dataframe tbody tr th:only-of-type {\n",
       "        vertical-align: middle;\n",
       "    }\n",
       "\n",
       "    .dataframe tbody tr th {\n",
       "        vertical-align: top;\n",
       "    }\n",
       "\n",
       "    .dataframe thead th {\n",
       "        text-align: right;\n",
       "    }\n",
       "</style>\n",
       "<table border=\"1\" class=\"dataframe\">\n",
       "  <thead>\n",
       "    <tr style=\"text-align: right;\">\n",
       "      <th></th>\n",
       "    </tr>\n",
       "    <tr>\n",
       "      <th>flow</th>\n",
       "    </tr>\n",
       "  </thead>\n",
       "  <tbody>\n",
       "    <tr>\n",
       "      <th>0.195116</th>\n",
       "    </tr>\n",
       "    <tr>\n",
       "      <th>0.231583</th>\n",
       "    </tr>\n",
       "    <tr>\n",
       "      <th>0.259637</th>\n",
       "    </tr>\n",
       "    <tr>\n",
       "      <th>0.320140</th>\n",
       "    </tr>\n",
       "    <tr>\n",
       "      <th>0.370229</th>\n",
       "    </tr>\n",
       "    <tr>\n",
       "      <th>0.517390</th>\n",
       "    </tr>\n",
       "    <tr>\n",
       "      <th>0.740900</th>\n",
       "    </tr>\n",
       "  </tbody>\n",
       "</table>\n",
       "</div>"
      ],
      "text/plain": [
       "Empty DataFrame\n",
       "Columns: []\n",
       "Index: [0.19511605, 0.23158299999999998, 0.25963739999999996, 0.32014030000000004, 0.3702294, 0.5173904, 0.7408998]"
      ]
     },
     "execution_count": 11,
     "metadata": {},
     "output_type": "execute_result"
    }
   ],
   "source": [
    "getAverage('5mm')"
   ]
  },
  {
   "cell_type": "code",
   "execution_count": 14,
   "metadata": {},
   "outputs": [
    {
     "ename": "AttributeError",
     "evalue": "'Series' object has no attribute 'cut'",
     "output_type": "error",
     "traceback": [
      "\u001b[1;31m---------------------------------------------------------------------------\u001b[0m",
      "\u001b[1;31mAttributeError\u001b[0m                            Traceback (most recent call last)",
      "Cell \u001b[1;32mIn[14], line 2\u001b[0m\n\u001b[0;32m      1\u001b[0m times \u001b[39m=\u001b[39m extractTimes(\u001b[39m'\u001b[39m\u001b[39m5mm_high_75.txt\u001b[39m\u001b[39m'\u001b[39m)\n\u001b[1;32m----> 2\u001b[0m times\u001b[39m.\u001b[39;49mcut()\n",
      "File \u001b[1;32mc:\\Users\\azzarip\\AppData\\Local\\miniconda3\\lib\\site-packages\\pandas\\core\\generic.py:5989\u001b[0m, in \u001b[0;36mNDFrame.__getattr__\u001b[1;34m(self, name)\u001b[0m\n\u001b[0;32m   5982\u001b[0m \u001b[39mif\u001b[39;00m (\n\u001b[0;32m   5983\u001b[0m     name \u001b[39mnot\u001b[39;00m \u001b[39min\u001b[39;00m \u001b[39mself\u001b[39m\u001b[39m.\u001b[39m_internal_names_set\n\u001b[0;32m   5984\u001b[0m     \u001b[39mand\u001b[39;00m name \u001b[39mnot\u001b[39;00m \u001b[39min\u001b[39;00m \u001b[39mself\u001b[39m\u001b[39m.\u001b[39m_metadata\n\u001b[0;32m   5985\u001b[0m     \u001b[39mand\u001b[39;00m name \u001b[39mnot\u001b[39;00m \u001b[39min\u001b[39;00m \u001b[39mself\u001b[39m\u001b[39m.\u001b[39m_accessors\n\u001b[0;32m   5986\u001b[0m     \u001b[39mand\u001b[39;00m \u001b[39mself\u001b[39m\u001b[39m.\u001b[39m_info_axis\u001b[39m.\u001b[39m_can_hold_identifiers_and_holds_name(name)\n\u001b[0;32m   5987\u001b[0m ):\n\u001b[0;32m   5988\u001b[0m     \u001b[39mreturn\u001b[39;00m \u001b[39mself\u001b[39m[name]\n\u001b[1;32m-> 5989\u001b[0m \u001b[39mreturn\u001b[39;00m \u001b[39mobject\u001b[39;49m\u001b[39m.\u001b[39;49m\u001b[39m__getattribute__\u001b[39;49m(\u001b[39mself\u001b[39;49m, name)\n",
      "\u001b[1;31mAttributeError\u001b[0m: 'Series' object has no attribute 'cut'"
     ]
    }
   ],
   "source": [
    "times = extractTimes('5mm_high_75.txt')\n"
   ]
  },
  {
   "cell_type": "code",
   "execution_count": 28,
   "metadata": {},
   "outputs": [
    {
     "data": {
      "text/plain": [
       "0.32"
      ]
     },
     "execution_count": 28,
     "metadata": {},
     "output_type": "execute_result"
    }
   ],
   "source": []
  }
 ],
 "metadata": {
  "kernelspec": {
   "display_name": "base",
   "language": "python",
   "name": "python3"
  },
  "language_info": {
   "codemirror_mode": {
    "name": "ipython",
    "version": 3
   },
   "file_extension": ".py",
   "mimetype": "text/x-python",
   "name": "python",
   "nbconvert_exporter": "python",
   "pygments_lexer": "ipython3",
   "version": "3.10.9"
  },
  "orig_nbformat": 4,
  "vscode": {
   "interpreter": {
    "hash": "e5150fadfed99c9aac1952beac983399fa1a48f1d594d4637f06d8c4f4f2fc6f"
   }
  }
 },
 "nbformat": 4,
 "nbformat_minor": 2
}
